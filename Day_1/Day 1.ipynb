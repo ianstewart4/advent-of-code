{
 "cells": [
  {
   "cell_type": "code",
   "execution_count": 34,
   "id": "f8cb1f8b",
   "metadata": {},
   "outputs": [],
   "source": [
    "import numpy as np\n",
    "import pandas as pd"
   ]
  },
  {
   "cell_type": "code",
   "execution_count": 70,
   "id": "46a04cad",
   "metadata": {},
   "outputs": [],
   "source": [
    "df = pd.read_csv('input.txt', sep=\" \", header=None) #saved file as txt, using read_csv to assign to df"
   ]
  },
  {
   "cell_type": "code",
   "execution_count": 71,
   "id": "21d9fa44",
   "metadata": {},
   "outputs": [],
   "source": [
    "df.rename(columns={0:'Depth'},inplace=True) #creating column name 'Depth'"
   ]
  },
  {
   "cell_type": "code",
   "execution_count": 72,
   "id": "5992c24e",
   "metadata": {
    "scrolled": true
   },
   "outputs": [
    {
     "data": {
      "text/plain": [
       "2000"
      ]
     },
     "execution_count": 72,
     "metadata": {},
     "output_type": "execute_result"
    }
   ],
   "source": [
    "len(df) #Confirming length of array"
   ]
  },
  {
   "cell_type": "code",
   "execution_count": 57,
   "id": "082cf3b4",
   "metadata": {},
   "outputs": [
    {
     "data": {
      "text/plain": [
       "0        184\n",
       "1        205\n",
       "2        211\n",
       "3        213\n",
       "4        227\n",
       "        ... \n",
       "1995    3273\n",
       "1996    3272\n",
       "1997    3279\n",
       "1998    3281\n",
       "1999    3288\n",
       "Name: Depth, Length: 2000, dtype: int64"
      ]
     },
     "execution_count": 57,
     "metadata": {},
     "output_type": "execute_result"
    }
   ],
   "source": [
    "df.Depth #Quick look at the data"
   ]
  },
  {
   "cell_type": "code",
   "execution_count": 69,
   "id": "02e1381a",
   "metadata": {},
   "outputs": [
    {
     "name": "stdout",
     "output_type": "stream",
     "text": [
      "1195\n"
     ]
    }
   ],
   "source": [
    "counter = 0 #to keep track of amount of time we've compared values so we know when to stop (counter = length)\n",
    "increase_counter = 0 #to count the number of increases \n",
    "first_num = 0 #to establish a start point for the first value to compare\n",
    "second_num = 1 #to establish a start point for the second value to compare\n",
    "while(counter<len(df.Depth)-1): #while the values are within the range of the array\n",
    "    if df.Depth[first_num] < df.Depth[second_num]: #if it increased\n",
    "        increase_counter += 1 #add 1 count for an increase\n",
    "        first_num+=1 #so we can proceed to the next evaluation\n",
    "        second_num+=1 #so we can proceed to the next evaluation\n",
    "        counter+=1 \n",
    "    else:    #if it did not increase\n",
    "        first_num+=1\n",
    "        second_num+=1\n",
    "        counter+=1\n",
    "print(increase_counter)"
   ]
  },
  {
   "cell_type": "markdown",
   "id": "d40ebd91",
   "metadata": {},
   "source": [
    "# The answer is: <u>1195</u>"
   ]
  }
 ],
 "metadata": {
  "kernelspec": {
   "display_name": "Python 3",
   "language": "python",
   "name": "python3"
  },
  "language_info": {
   "codemirror_mode": {
    "name": "ipython",
    "version": 3
   },
   "file_extension": ".py",
   "mimetype": "text/x-python",
   "name": "python",
   "nbconvert_exporter": "python",
   "pygments_lexer": "ipython3",
   "version": "3.8.8"
  }
 },
 "nbformat": 4,
 "nbformat_minor": 5
}

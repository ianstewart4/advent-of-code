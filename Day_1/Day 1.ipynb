{
 "cells": [
  {
   "cell_type": "code",
   "execution_count": 34,
   "id": "f8cb1f8b",
   "metadata": {},
   "outputs": [],
   "source": [
    "import numpy as np\n",
    "import pandas as pd"
   ]
  },
  {
   "cell_type": "code",
   "execution_count": 70,
   "id": "655630e3",
   "metadata": {},
   "outputs": [],
   "source": [
    "df = pd.read_csv('input.txt', sep=\" \", header=None)"
   ]
  },
  {
   "cell_type": "code",
   "execution_count": 71,
   "id": "f96dbf52",
   "metadata": {},
   "outputs": [],
   "source": [
    "df.rename(columns={0:'Depth'},inplace=True)"
   ]
  },
  {
   "cell_type": "code",
   "execution_count": 72,
   "id": "a6779b0d",
   "metadata": {
    "scrolled": true
   },
   "outputs": [
    {
     "data": {
      "text/plain": [
       "2000"
      ]
     },
     "execution_count": 72,
     "metadata": {},
     "output_type": "execute_result"
    }
   ],
   "source": [
    "len(df)"
   ]
  },
  {
   "cell_type": "code",
   "execution_count": 57,
   "id": "ea1cacec",
   "metadata": {},
   "outputs": [
    {
     "data": {
      "text/plain": [
       "0        184\n",
       "1        205\n",
       "2        211\n",
       "3        213\n",
       "4        227\n",
       "        ... \n",
       "1995    3273\n",
       "1996    3272\n",
       "1997    3279\n",
       "1998    3281\n",
       "1999    3288\n",
       "Name: Depth, Length: 2000, dtype: int64"
      ]
     },
     "execution_count": 57,
     "metadata": {},
     "output_type": "execute_result"
    }
   ],
   "source": [
    "df.Depth"
   ]
  },
  {
   "cell_type": "code",
   "execution_count": 69,
   "id": "869223bf",
   "metadata": {},
   "outputs": [
    {
     "name": "stdout",
     "output_type": "stream",
     "text": [
      "1195\n"
     ]
    }
   ],
   "source": [
    "counter = 0\n",
    "increase_counter = 0\n",
    "first_num = 0\n",
    "second_num = 1\n",
    "while(counter<len(df.Depth)-1):\n",
    "    if df.Depth[first_num] < df.Depth[second_num]:\n",
    "        increase_counter += 1\n",
    "        first_num+=1\n",
    "        second_num+=1\n",
    "        counter+=1\n",
    "    else:    \n",
    "        first_num+=1\n",
    "        second_num+=1\n",
    "        counter+=1\n",
    "print(increase_counter)"
   ]
  }
 ],
 "metadata": {
  "kernelspec": {
   "display_name": "Python 3",
   "language": "python",
   "name": "python3"
  },
  "language_info": {
   "codemirror_mode": {
    "name": "ipython",
    "version": 3
   },
   "file_extension": ".py",
   "mimetype": "text/x-python",
   "name": "python",
   "nbconvert_exporter": "python",
   "pygments_lexer": "ipython3",
   "version": "3.8.8"
  }
 },
 "nbformat": 4,
 "nbformat_minor": 5
}
